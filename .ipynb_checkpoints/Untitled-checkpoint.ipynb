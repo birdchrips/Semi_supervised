{
 "cells": [
  {
   "cell_type": "code",
   "execution_count": null,
   "id": "22345b4a",
   "metadata": {},
   "outputs": [],
   "source": [
    "model = torch.load(\"positive_trainingAutoEncoder.model\")\n",
    "\n",
    "isfo = IsolationForest(n_estimators=100)\n",
    "\n",
    "model.eval()\n",
    "\n",
    "train_loader = DataLoader(NGIDS_dataset, batch_size=batch_size, shuffle = True)\n",
    "train_iterator = tqdm(enumerate(train_loader), total=len(train_loader), position=0, leave=True, desc=\"training\")\n",
    "\n",
    "for i, batch in train_iterator :\n",
    "    \n",
    "    output, _ = model(batch)\n",
    "    output = output.detach().cpu().numpy()\n",
    "    isfo.fit(output[:, -1, :])\n",
    "    \n",
    "NGIDS_testset = NGIDS_Dataset(X_test, y_test, p2i, s2i, slide_window_size)\n",
    "test_loader = DataLoader(NGIDS_testset, batch_size=len(NGIDS_testset), shuffle = True)\n",
    "\n",
    "tmp = iter(test_loader)\n",
    "data = tmp.next()\n",
    "_, label = data\n",
    "\n",
    "output, _ = model(data)\n",
    "output = output.detach().cpu().numpy()\n",
    "\n",
    "y_pred = isfo.predict(output[:, -1, :])\n",
    "y_score_sample = isfo.score_samples(output[:, -1, :])\n",
    "\n",
    "for idx, j in enumerate(y_pred):\n",
    "    if j == -1 :\n",
    "        y_pred[idx] = 1\n",
    "    else :\n",
    "        y_pred[idx] = 0\n",
    "\n",
    "fpr, tpr, thresholds = roc_curve(label, -y_score_sample)\n",
    "\n",
    "print(\"accuracy score :\", accuracy_score(label, y_pred))\n",
    "print(\"recall score :\", recall_score(label, y_pred))\n",
    "print(\"precision score :\", precision_score(label, y_pred))\n",
    "print(\"roc_auc :\", roc_auc_score(label, -y_score_sample))\n",
    "\n",
    "plt.plot(fpr, tpr, color=\"navy\")\n",
    "plt.xlabel(\"False Positive Rate\")\n",
    "plt.ylabel(\"True Positive Rate\")\n",
    "plt.show()"
   ]
  }
 ],
 "metadata": {
  "kernelspec": {
   "display_name": "hyun",
   "language": "python",
   "name": "hyun"
  },
  "language_info": {
   "codemirror_mode": {
    "name": "ipython",
    "version": 3
   },
   "file_extension": ".py",
   "mimetype": "text/x-python",
   "name": "python",
   "nbconvert_exporter": "python",
   "pygments_lexer": "ipython3",
   "version": "3.9.7"
  }
 },
 "nbformat": 4,
 "nbformat_minor": 5
}
