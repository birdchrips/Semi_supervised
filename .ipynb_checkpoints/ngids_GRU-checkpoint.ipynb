{
 "cells": [
  {
   "cell_type": "code",
   "execution_count": 1,
   "metadata": {
    "ExecuteTime": {
     "end_time": "2022-11-11T09:16:19.504546Z",
     "start_time": "2022-11-11T09:16:17.585449Z"
    }
   },
   "outputs": [],
   "source": [
    "import pandas as pd\n",
    "import numpy as np\n",
    "import torch \n",
    "import torch.nn as nn\n",
    "from torch.utils.data import DataLoader\n",
    "from sklearn.model_selection import train_test_split\n",
    "import matplotlib.pyplot as plt\n",
    "from tqdm import tqdm\n",
    "import time\n",
    "\n",
    "NGIDS_path = './dataset/NGIDS_host_log_1-99.csv'\n",
    "\n",
    "device = torch.device('cuda') # GPU 사용\n",
    "batch_size = 256\n",
    "slide_window_size = 50\n",
    "learning_rate = 0.001\n",
    "max_epochs = 150\n",
    "hidden_size = 8\n",
    "hhidden_size = 6\n",
    "num_layers = 2\n",
    "early_stop = 20\n",
    "\n",
    "\n",
    "vector_size = 10\n",
    "window = 3"
   ]
  },
  {
   "cell_type": "code",
   "execution_count": 2,
   "metadata": {
    "ExecuteTime": {
     "end_time": "2022-11-11T09:17:40.828318Z",
     "start_time": "2022-11-11T09:16:19.505543Z"
    }
   },
   "outputs": [
    {
     "name": "stdout",
     "output_type": "stream",
     "text": [
      "positive :  1770904\n",
      "negative :  30180\n",
      "1392578 1392578\n",
      "348145 348145\n",
      "60360 60360\n"
     ]
    }
   ],
   "source": [
    "import NGIDS_dataset\n",
    "\n",
    "X_train, y_train, X_vali, y_vali, X_test, y_test = NGIDS_dataset.NGIDS_get(slide_window_size)\n",
    "\n",
    "print(len(X_train), len(y_train))\n",
    "print(len(X_vali), len(y_vali))\n",
    "print(len(X_test), len(y_test))\n"
   ]
  },
  {
   "cell_type": "code",
   "execution_count": 3,
   "metadata": {
    "ExecuteTime": {
     "end_time": "2022-11-11T09:17:41.619693Z",
     "start_time": "2022-11-11T09:17:40.839287Z"
    }
   },
   "outputs": [],
   "source": [
    "import gensim\n",
    "\n",
    "def save_path(vector_size, window, data_name=\"NGIDS_path_w2v\"):\n",
    "    return \"./dataset/PathSystem/\" + f\"vectorsize{vector_size}_window{window}_\" + data_name\n",
    "\n",
    "def save_sys(vector_size, window, data_name = \"NGIDS_vector\"):\n",
    "    return \"./dataset/PathSystem/\" + f\"vectorsize{vector_size}_window{window}_\" + data_name\n",
    "\n",
    "\n",
    "input_size = vector_size\n",
    "\n",
    "NGIDS_sys_model = gensim.models.Word2Vec.load(save_sys(vector_size, window))\n",
    "NGIDS_path_model = gensim.models.Word2Vec.load(save_path(vector_size, window, \"NGIDS_vector\"))"
   ]
  },
  {
   "cell_type": "code",
   "execution_count": 5,
   "metadata": {
    "ExecuteTime": {
     "end_time": "2022-11-11T09:27:33.497310Z",
     "start_time": "2022-11-11T09:25:56.184646Z"
    }
   },
   "outputs": [],
   "source": [
    "p2i = NGIDS_path_model.wv.key_to_index\n",
    "s2i = NGIDS_sys_model.wv.key_to_index\n",
    "\n",
    "NGIDS_trainset = NGIDS_dataset.NGIDS_Dataset(X_train, y_train, p2i, s2i)\n",
    "train_loader = DataLoader(NGIDS_trainset, batch_size=batch_size, shuffle = True)\n",
    "\n",
    "NGIDS_valiset = NGIDS_dataset.NGIDS_Dataset(X_vali, y_vali, p2i, s2i)\n",
    "vali_loader = DataLoader(NGIDS_valiset, batch_size=batch_size, shuffle = True)\n",
    "\n",
    "NGIDS_testset = NGIDS_dataset.NGIDS_Dataset(X_test, y_test, p2i, s2i)\n"
   ]
  },
  {
   "cell_type": "code",
   "execution_count": 6,
   "metadata": {
    "ExecuteTime": {
     "end_time": "2022-11-11T09:27:33.591373Z",
     "start_time": "2022-11-11T09:27:33.497310Z"
    }
   },
   "outputs": [
    {
     "ename": "NameError",
     "evalue": "name 'hhidden_size' is not defined",
     "output_type": "error",
     "traceback": [
      "\u001b[1;31m---------------------------------------------------------------------------\u001b[0m",
      "\u001b[1;31mNameError\u001b[0m                                 Traceback (most recent call last)",
      "\u001b[1;32m~\\AppData\\Local\\Temp/ipykernel_6392/1333972349.py\u001b[0m in \u001b[0;36m<module>\u001b[1;34m\u001b[0m\n\u001b[0;32m      5\u001b[0m \u001b[1;32mfrom\u001b[0m \u001b[0mmodels\u001b[0m \u001b[1;32mimport\u001b[0m \u001b[0mGRU_AutoEncoder\u001b[0m\u001b[1;33m\u001b[0m\u001b[1;33m\u001b[0m\u001b[0m\n\u001b[0;32m      6\u001b[0m \u001b[1;33m\u001b[0m\u001b[0m\n\u001b[1;32m----> 7\u001b[1;33m \u001b[0mmodel\u001b[0m \u001b[1;33m=\u001b[0m \u001b[0mGRU_AutoEncoder\u001b[0m\u001b[1;33m(\u001b[0m\u001b[0minput_size\u001b[0m\u001b[1;33m,\u001b[0m \u001b[0mhidden_size\u001b[0m\u001b[1;33m,\u001b[0m \u001b[0mhhidden_size\u001b[0m\u001b[1;33m,\u001b[0m \u001b[0mnum_layers\u001b[0m\u001b[1;33m,\u001b[0m \u001b[0mNGIDS_path_model\u001b[0m\u001b[1;33m.\u001b[0m\u001b[0mwv\u001b[0m\u001b[1;33m.\u001b[0m\u001b[0mvectors\u001b[0m\u001b[1;33m,\u001b[0m \u001b[0mNGIDS_sys_model\u001b[0m\u001b[1;33m.\u001b[0m\u001b[0mwv\u001b[0m\u001b[1;33m.\u001b[0m\u001b[0mvectors\u001b[0m\u001b[1;33m,\u001b[0m \u001b[0mdevice\u001b[0m\u001b[1;33m)\u001b[0m\u001b[1;33m\u001b[0m\u001b[1;33m\u001b[0m\u001b[0m\n\u001b[0m\u001b[0;32m      8\u001b[0m \u001b[0mmodel\u001b[0m\u001b[1;33m.\u001b[0m\u001b[0mto\u001b[0m\u001b[1;33m(\u001b[0m\u001b[0mdevice\u001b[0m\u001b[1;33m)\u001b[0m\u001b[1;33m\u001b[0m\u001b[1;33m\u001b[0m\u001b[0m\n\u001b[0;32m      9\u001b[0m \u001b[1;33m\u001b[0m\u001b[0m\n",
      "\u001b[1;31mNameError\u001b[0m: name 'hhidden_size' is not defined"
     ]
    }
   ],
   "source": [
    "%reload_ext autoreload\n",
    "%autoreload 2\n",
    "\n",
    "import models\n",
    "from models import GRU_AutoEncoder\n",
    "\n",
    "model = GRU_AutoEncoder(input_size, hidden_size, hhidden_size, num_layers, NGIDS_path_model.wv.vectors, NGIDS_sys_model.wv.vectors, device)\n",
    "model.to(device)\n",
    "\n",
    "model = models.run(model, train_loader, vali_loader, learning_rate, max_epochs, early_stop)\n",
    "\n",
    "path = './result/s{slide_window_size}h{hidden_size}hh{hhidden_size}/v{vector_size}w{window}/'\n",
    "\n",
    "torch.save(model, path + \"AutoEncoder.model\")\n",
    "torch.save(NGIDS_trainset, path + \"trainset\")\n",
    "torch.save(NGIDS_valiset, path + \"valiset\")\n",
    "torch.save(NGIDS_testset, path + \"testset\")"
   ]
  },
  {
   "cell_type": "code",
   "execution_count": null,
   "metadata": {
    "ExecuteTime": {
     "end_time": "2022-11-11T09:27:33.592374Z",
     "start_time": "2022-11-11T09:27:33.592374Z"
    }
   },
   "outputs": [],
   "source": [
    "\n",
    "torch.save(model, \"./result/positive_trainingAutoEncoder.model\")\n",
    "torch.save()"
   ]
  },
  {
   "cell_type": "code",
   "execution_count": null,
   "metadata": {},
   "outputs": [],
   "source": []
  }
 ],
 "metadata": {
  "kernelspec": {
   "display_name": "Python 3 (ipykernel)",
   "language": "python",
   "name": "python3"
  },
  "language_info": {
   "codemirror_mode": {
    "name": "ipython",
    "version": 3
   },
   "file_extension": ".py",
   "mimetype": "text/x-python",
   "name": "python",
   "nbconvert_exporter": "python",
   "pygments_lexer": "ipython3",
   "version": "3.9.7"
  },
  "vscode": {
   "interpreter": {
    "hash": "8d4f5e5333919c7baf0c3b886effb8804f3a4378a893d12116a2d10aaca08022"
   }
  }
 },
 "nbformat": 4,
 "nbformat_minor": 2
}
