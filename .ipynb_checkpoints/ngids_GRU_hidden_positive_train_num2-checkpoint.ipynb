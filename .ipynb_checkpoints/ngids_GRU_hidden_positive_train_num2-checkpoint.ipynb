{
 "cells": [
  {
   "cell_type": "code",
   "execution_count": 1,
   "metadata": {
    "ExecuteTime": {
     "end_time": "2022-11-11T07:32:03.805870Z",
     "start_time": "2022-11-11T07:32:02.193986Z"
    }
   },
   "outputs": [],
   "source": [
    "import pandas as pd\n",
    "import numpy as np\n",
    "import torch \n",
    "import torch.nn as nn\n",
    "from torch.utils.data import DataLoader\n",
    "from sklearn.model_selection import train_test_split\n",
    "import matplotlib.pyplot as plt\n",
    "from tqdm import tqdm\n",
    "import time\n",
    "\n",
    "NGIDS_path = './dataset/NGIDS_host_log_1-99.csv'\n",
    "\n",
    "device = torch.device('cuda') # GPU 사용\n",
    "batch_size = 256\n",
    "slide_window_size = 50\n",
    "learning_rate = 0.001\n",
    "max_epochs = 150\n",
    "hidden_size = 8\n",
    "hhidden_size = 6\n",
    "num_layers = 1\n",
    "early_stop = 20"
   ]
  },
  {
   "cell_type": "code",
   "execution_count": 2,
   "metadata": {
    "ExecuteTime": {
     "end_time": "2022-11-11T07:32:18.817646Z",
     "start_time": "2022-11-11T07:32:03.806070Z"
    }
   },
   "outputs": [
    {
     "ename": "KeyboardInterrupt",
     "evalue": "",
     "output_type": "error",
     "traceback": [
      "\u001b[1;31m---------------------------------------------------------------------------\u001b[0m",
      "\u001b[1;31mKeyboardInterrupt\u001b[0m                         Traceback (most recent call last)",
      "\u001b[1;32m~\\AppData\\Local\\Temp/ipykernel_12020/1078464629.py\u001b[0m in \u001b[0;36m<module>\u001b[1;34m\u001b[0m\n\u001b[0;32m      1\u001b[0m \u001b[1;32mimport\u001b[0m \u001b[0mNGIDS_dataset\u001b[0m\u001b[1;33m\u001b[0m\u001b[1;33m\u001b[0m\u001b[0m\n\u001b[0;32m      2\u001b[0m \u001b[1;33m\u001b[0m\u001b[0m\n\u001b[1;32m----> 3\u001b[1;33m \u001b[0mX_train\u001b[0m\u001b[1;33m,\u001b[0m \u001b[0my_train\u001b[0m\u001b[1;33m,\u001b[0m \u001b[0mX_vali\u001b[0m\u001b[1;33m,\u001b[0m \u001b[0my_vali\u001b[0m\u001b[1;33m,\u001b[0m \u001b[0mX_test\u001b[0m\u001b[1;33m,\u001b[0m \u001b[0my_test\u001b[0m \u001b[1;33m=\u001b[0m \u001b[0mNGIDS_dataset\u001b[0m\u001b[1;33m.\u001b[0m\u001b[0mNGIDS_get\u001b[0m\u001b[1;33m(\u001b[0m\u001b[0mslide_window_size\u001b[0m\u001b[1;33m)\u001b[0m\u001b[1;33m\u001b[0m\u001b[1;33m\u001b[0m\u001b[0m\n\u001b[0m\u001b[0;32m      4\u001b[0m \u001b[1;33m\u001b[0m\u001b[0m\n\u001b[0;32m      5\u001b[0m \u001b[0mprint\u001b[0m\u001b[1;33m(\u001b[0m\u001b[0mlen\u001b[0m\u001b[1;33m(\u001b[0m\u001b[0mX_train\u001b[0m\u001b[1;33m)\u001b[0m\u001b[1;33m,\u001b[0m \u001b[0mlen\u001b[0m\u001b[1;33m(\u001b[0m\u001b[0my_train\u001b[0m\u001b[1;33m)\u001b[0m\u001b[1;33m)\u001b[0m\u001b[1;33m\u001b[0m\u001b[1;33m\u001b[0m\u001b[0m\n",
      "\u001b[1;32m~\\Lee_JW\\Semi_supervised\\NGIDS_dataset.py\u001b[0m in \u001b[0;36mNGIDS_get\u001b[1;34m(slide_window_size, label_op, NGIDS_path)\u001b[0m\n\u001b[0;32m     36\u001b[0m \u001b[1;32mdef\u001b[0m \u001b[0mNGIDS_get\u001b[0m\u001b[1;33m(\u001b[0m\u001b[0mslide_window_size\u001b[0m\u001b[1;33m,\u001b[0m \u001b[0mlabel_op\u001b[0m \u001b[1;33m=\u001b[0m \u001b[1;36m1\u001b[0m\u001b[1;33m,\u001b[0m \u001b[0mNGIDS_path\u001b[0m \u001b[1;33m=\u001b[0m \u001b[1;34m'./dataset/NGIDS_host_log_1-99.csv'\u001b[0m\u001b[1;33m)\u001b[0m\u001b[1;33m:\u001b[0m\u001b[1;33m\u001b[0m\u001b[1;33m\u001b[0m\u001b[0m\n\u001b[0;32m     37\u001b[0m \u001b[1;33m\u001b[0m\u001b[0m\n\u001b[1;32m---> 38\u001b[1;33m     \u001b[0mNGIDS\u001b[0m \u001b[1;33m=\u001b[0m \u001b[0mpd\u001b[0m\u001b[1;33m.\u001b[0m\u001b[0mread_csv\u001b[0m\u001b[1;33m(\u001b[0m\u001b[0mNGIDS_path\u001b[0m\u001b[1;33m)\u001b[0m\u001b[1;33m\u001b[0m\u001b[1;33m\u001b[0m\u001b[0m\n\u001b[0m\u001b[0;32m     39\u001b[0m \u001b[1;33m\u001b[0m\u001b[0m\n\u001b[0;32m     40\u001b[0m     \u001b[0mdropna_NGIDS\u001b[0m \u001b[1;33m=\u001b[0m \u001b[0mNGIDS\u001b[0m\u001b[1;33m.\u001b[0m\u001b[0mdropna\u001b[0m\u001b[1;33m(\u001b[0m\u001b[0msubset\u001b[0m\u001b[1;33m=\u001b[0m\u001b[1;33m[\u001b[0m\u001b[1;34m'path'\u001b[0m\u001b[1;33m,\u001b[0m \u001b[1;34m'sys_call'\u001b[0m\u001b[1;33m,\u001b[0m \u001b[1;34m'label'\u001b[0m\u001b[1;33m]\u001b[0m\u001b[1;33m)\u001b[0m\u001b[1;33m\u001b[0m\u001b[1;33m\u001b[0m\u001b[0m\n",
      "\u001b[1;32m~\\anaconda3\\envs\\hyun\\lib\\site-packages\\pandas\\util\\_decorators.py\u001b[0m in \u001b[0;36mwrapper\u001b[1;34m(*args, **kwargs)\u001b[0m\n\u001b[0;32m    309\u001b[0m                     \u001b[0mstacklevel\u001b[0m\u001b[1;33m=\u001b[0m\u001b[0mstacklevel\u001b[0m\u001b[1;33m,\u001b[0m\u001b[1;33m\u001b[0m\u001b[1;33m\u001b[0m\u001b[0m\n\u001b[0;32m    310\u001b[0m                 )\n\u001b[1;32m--> 311\u001b[1;33m             \u001b[1;32mreturn\u001b[0m \u001b[0mfunc\u001b[0m\u001b[1;33m(\u001b[0m\u001b[1;33m*\u001b[0m\u001b[0margs\u001b[0m\u001b[1;33m,\u001b[0m \u001b[1;33m**\u001b[0m\u001b[0mkwargs\u001b[0m\u001b[1;33m)\u001b[0m\u001b[1;33m\u001b[0m\u001b[1;33m\u001b[0m\u001b[0m\n\u001b[0m\u001b[0;32m    312\u001b[0m \u001b[1;33m\u001b[0m\u001b[0m\n\u001b[0;32m    313\u001b[0m         \u001b[1;32mreturn\u001b[0m \u001b[0mwrapper\u001b[0m\u001b[1;33m\u001b[0m\u001b[1;33m\u001b[0m\u001b[0m\n",
      "\u001b[1;32m~\\anaconda3\\envs\\hyun\\lib\\site-packages\\pandas\\io\\parsers\\readers.py\u001b[0m in \u001b[0;36mread_csv\u001b[1;34m(filepath_or_buffer, sep, delimiter, header, names, index_col, usecols, squeeze, prefix, mangle_dupe_cols, dtype, engine, converters, true_values, false_values, skipinitialspace, skiprows, skipfooter, nrows, na_values, keep_default_na, na_filter, verbose, skip_blank_lines, parse_dates, infer_datetime_format, keep_date_col, date_parser, dayfirst, cache_dates, iterator, chunksize, compression, thousands, decimal, lineterminator, quotechar, quoting, doublequote, escapechar, comment, encoding, encoding_errors, dialect, error_bad_lines, warn_bad_lines, on_bad_lines, delim_whitespace, low_memory, memory_map, float_precision, storage_options)\u001b[0m\n\u001b[0;32m    678\u001b[0m     \u001b[0mkwds\u001b[0m\u001b[1;33m.\u001b[0m\u001b[0mupdate\u001b[0m\u001b[1;33m(\u001b[0m\u001b[0mkwds_defaults\u001b[0m\u001b[1;33m)\u001b[0m\u001b[1;33m\u001b[0m\u001b[1;33m\u001b[0m\u001b[0m\n\u001b[0;32m    679\u001b[0m \u001b[1;33m\u001b[0m\u001b[0m\n\u001b[1;32m--> 680\u001b[1;33m     \u001b[1;32mreturn\u001b[0m \u001b[0m_read\u001b[0m\u001b[1;33m(\u001b[0m\u001b[0mfilepath_or_buffer\u001b[0m\u001b[1;33m,\u001b[0m \u001b[0mkwds\u001b[0m\u001b[1;33m)\u001b[0m\u001b[1;33m\u001b[0m\u001b[1;33m\u001b[0m\u001b[0m\n\u001b[0m\u001b[0;32m    681\u001b[0m \u001b[1;33m\u001b[0m\u001b[0m\n\u001b[0;32m    682\u001b[0m \u001b[1;33m\u001b[0m\u001b[0m\n",
      "\u001b[1;32m~\\anaconda3\\envs\\hyun\\lib\\site-packages\\pandas\\io\\parsers\\readers.py\u001b[0m in \u001b[0;36m_read\u001b[1;34m(filepath_or_buffer, kwds)\u001b[0m\n\u001b[0;32m    579\u001b[0m \u001b[1;33m\u001b[0m\u001b[0m\n\u001b[0;32m    580\u001b[0m     \u001b[1;32mwith\u001b[0m \u001b[0mparser\u001b[0m\u001b[1;33m:\u001b[0m\u001b[1;33m\u001b[0m\u001b[1;33m\u001b[0m\u001b[0m\n\u001b[1;32m--> 581\u001b[1;33m         \u001b[1;32mreturn\u001b[0m \u001b[0mparser\u001b[0m\u001b[1;33m.\u001b[0m\u001b[0mread\u001b[0m\u001b[1;33m(\u001b[0m\u001b[0mnrows\u001b[0m\u001b[1;33m)\u001b[0m\u001b[1;33m\u001b[0m\u001b[1;33m\u001b[0m\u001b[0m\n\u001b[0m\u001b[0;32m    582\u001b[0m \u001b[1;33m\u001b[0m\u001b[0m\n\u001b[0;32m    583\u001b[0m \u001b[1;33m\u001b[0m\u001b[0m\n",
      "\u001b[1;32m~\\anaconda3\\envs\\hyun\\lib\\site-packages\\pandas\\io\\parsers\\readers.py\u001b[0m in \u001b[0;36mread\u001b[1;34m(self, nrows)\u001b[0m\n\u001b[0;32m   1248\u001b[0m             \u001b[0mnrows\u001b[0m \u001b[1;33m=\u001b[0m \u001b[0mvalidate_integer\u001b[0m\u001b[1;33m(\u001b[0m\u001b[1;34m\"nrows\"\u001b[0m\u001b[1;33m,\u001b[0m \u001b[0mnrows\u001b[0m\u001b[1;33m)\u001b[0m\u001b[1;33m\u001b[0m\u001b[1;33m\u001b[0m\u001b[0m\n\u001b[0;32m   1249\u001b[0m             \u001b[1;32mtry\u001b[0m\u001b[1;33m:\u001b[0m\u001b[1;33m\u001b[0m\u001b[1;33m\u001b[0m\u001b[0m\n\u001b[1;32m-> 1250\u001b[1;33m                 \u001b[0mindex\u001b[0m\u001b[1;33m,\u001b[0m \u001b[0mcolumns\u001b[0m\u001b[1;33m,\u001b[0m \u001b[0mcol_dict\u001b[0m \u001b[1;33m=\u001b[0m \u001b[0mself\u001b[0m\u001b[1;33m.\u001b[0m\u001b[0m_engine\u001b[0m\u001b[1;33m.\u001b[0m\u001b[0mread\u001b[0m\u001b[1;33m(\u001b[0m\u001b[0mnrows\u001b[0m\u001b[1;33m)\u001b[0m\u001b[1;33m\u001b[0m\u001b[1;33m\u001b[0m\u001b[0m\n\u001b[0m\u001b[0;32m   1251\u001b[0m             \u001b[1;32mexcept\u001b[0m \u001b[0mException\u001b[0m\u001b[1;33m:\u001b[0m\u001b[1;33m\u001b[0m\u001b[1;33m\u001b[0m\u001b[0m\n\u001b[0;32m   1252\u001b[0m                 \u001b[0mself\u001b[0m\u001b[1;33m.\u001b[0m\u001b[0mclose\u001b[0m\u001b[1;33m(\u001b[0m\u001b[1;33m)\u001b[0m\u001b[1;33m\u001b[0m\u001b[1;33m\u001b[0m\u001b[0m\n",
      "\u001b[1;32m~\\anaconda3\\envs\\hyun\\lib\\site-packages\\pandas\\io\\parsers\\c_parser_wrapper.py\u001b[0m in \u001b[0;36mread\u001b[1;34m(self, nrows)\u001b[0m\n\u001b[0;32m    223\u001b[0m         \u001b[1;32mtry\u001b[0m\u001b[1;33m:\u001b[0m\u001b[1;33m\u001b[0m\u001b[1;33m\u001b[0m\u001b[0m\n\u001b[0;32m    224\u001b[0m             \u001b[1;32mif\u001b[0m \u001b[0mself\u001b[0m\u001b[1;33m.\u001b[0m\u001b[0mlow_memory\u001b[0m\u001b[1;33m:\u001b[0m\u001b[1;33m\u001b[0m\u001b[1;33m\u001b[0m\u001b[0m\n\u001b[1;32m--> 225\u001b[1;33m                 \u001b[0mchunks\u001b[0m \u001b[1;33m=\u001b[0m \u001b[0mself\u001b[0m\u001b[1;33m.\u001b[0m\u001b[0m_reader\u001b[0m\u001b[1;33m.\u001b[0m\u001b[0mread_low_memory\u001b[0m\u001b[1;33m(\u001b[0m\u001b[0mnrows\u001b[0m\u001b[1;33m)\u001b[0m\u001b[1;33m\u001b[0m\u001b[1;33m\u001b[0m\u001b[0m\n\u001b[0m\u001b[0;32m    226\u001b[0m                 \u001b[1;31m# destructive to chunks\u001b[0m\u001b[1;33m\u001b[0m\u001b[1;33m\u001b[0m\u001b[0m\n\u001b[0;32m    227\u001b[0m                 \u001b[0mdata\u001b[0m \u001b[1;33m=\u001b[0m \u001b[0m_concatenate_chunks\u001b[0m\u001b[1;33m(\u001b[0m\u001b[0mchunks\u001b[0m\u001b[1;33m)\u001b[0m\u001b[1;33m\u001b[0m\u001b[1;33m\u001b[0m\u001b[0m\n",
      "\u001b[1;32m~\\anaconda3\\envs\\hyun\\lib\\site-packages\\pandas\\_libs\\parsers.pyx\u001b[0m in \u001b[0;36mpandas._libs.parsers.TextReader.read_low_memory\u001b[1;34m()\u001b[0m\n",
      "\u001b[1;32m~\\anaconda3\\envs\\hyun\\lib\\site-packages\\pandas\\_libs\\parsers.pyx\u001b[0m in \u001b[0;36mpandas._libs.parsers.TextReader._read_rows\u001b[1;34m()\u001b[0m\n",
      "\u001b[1;32m~\\anaconda3\\envs\\hyun\\lib\\site-packages\\pandas\\_libs\\parsers.pyx\u001b[0m in \u001b[0;36mpandas._libs.parsers.TextReader._convert_column_data\u001b[1;34m()\u001b[0m\n",
      "\u001b[1;32m~\\anaconda3\\envs\\hyun\\lib\\site-packages\\pandas\\_libs\\parsers.pyx\u001b[0m in \u001b[0;36mpandas._libs.parsers.TextReader._convert_tokens\u001b[1;34m()\u001b[0m\n",
      "\u001b[1;32m~\\anaconda3\\envs\\hyun\\lib\\site-packages\\pandas\\_libs\\parsers.pyx\u001b[0m in \u001b[0;36mpandas._libs.parsers.TextReader._convert_with_dtype\u001b[1;34m()\u001b[0m\n",
      "\u001b[1;32m~\\anaconda3\\envs\\hyun\\lib\\site-packages\\pandas\\core\\dtypes\\common.py\u001b[0m in \u001b[0;36mis_extension_array_dtype\u001b[1;34m(arr_or_dtype)\u001b[0m\n\u001b[0;32m   1427\u001b[0m \u001b[1;33m\u001b[0m\u001b[0m\n\u001b[0;32m   1428\u001b[0m \u001b[1;33m\u001b[0m\u001b[0m\n\u001b[1;32m-> 1429\u001b[1;33m \u001b[1;32mdef\u001b[0m \u001b[0mis_extension_array_dtype\u001b[0m\u001b[1;33m(\u001b[0m\u001b[0marr_or_dtype\u001b[0m\u001b[1;33m)\u001b[0m \u001b[1;33m->\u001b[0m \u001b[0mbool\u001b[0m\u001b[1;33m:\u001b[0m\u001b[1;33m\u001b[0m\u001b[1;33m\u001b[0m\u001b[0m\n\u001b[0m\u001b[0;32m   1430\u001b[0m     \"\"\"\n\u001b[0;32m   1431\u001b[0m     \u001b[0mCheck\u001b[0m \u001b[1;32mif\u001b[0m \u001b[0man\u001b[0m \u001b[0mobject\u001b[0m \u001b[1;32mis\u001b[0m \u001b[0ma\u001b[0m \u001b[0mpandas\u001b[0m \u001b[0mextension\u001b[0m \u001b[0marray\u001b[0m \u001b[0mtype\u001b[0m\u001b[1;33m.\u001b[0m\u001b[1;33m\u001b[0m\u001b[1;33m\u001b[0m\u001b[0m\n",
      "\u001b[1;31mKeyboardInterrupt\u001b[0m: "
     ]
    }
   ],
   "source": [
    "import NGIDS_dataset\n",
    "\n",
    "X_train, y_train, X_vali, y_vali, X_test, y_test = NGIDS_dataset.NGIDS_get(slide_window_size)\n",
    "\n",
    "print(len(X_train), len(y_train))\n",
    "print(len(X_vali), len(y_vali))\n",
    "print(len(X_test), len(y_test))\n"
   ]
  },
  {
   "cell_type": "code",
   "execution_count": null,
   "metadata": {
    "ExecuteTime": {
     "end_time": "2022-11-11T07:32:18.818617Z",
     "start_time": "2022-11-11T07:32:18.818617Z"
    }
   },
   "outputs": [],
   "source": [
    "import gensim\n",
    "\n",
    "def save_path(vector_size, window, data_name=\"NGIDS_path_w2v\"):\n",
    "    return \"./dataset/PathSystem/\" + f\"vectorsize{vector_size}_window{window}_\" + data_name\n",
    "\n",
    "def save_sys(vector_size, window, data_name = \"NGIDS_vector\"):\n",
    "    return \"./dataset/PathSystem/\" + f\"vectorsize{vector_size}_window{window}_\" + data_name\n",
    "\n",
    "\n",
    "vector_size = 10\n",
    "window = 3\n",
    "input_size = vector_size\n",
    "\n",
    "NGIDS_sys_model = gensim.models.Word2Vec.load(save_sys(vector_size, window))\n",
    "NGIDS_path_model = gensim.models.Word2Vec.load(save_path(vector_size, window, \"NGIDS_vector\"))"
   ]
  },
  {
   "cell_type": "code",
   "execution_count": null,
   "metadata": {
    "ExecuteTime": {
     "end_time": "2022-11-11T07:32:18.819614Z",
     "start_time": "2022-11-11T07:32:18.819614Z"
    }
   },
   "outputs": [],
   "source": [
    "p2i = NGIDS_path_model.wv.key_to_index\n",
    "s2i = NGIDS_sys_model.wv.key_to_index\n",
    "\n",
    "NGIDS_trainset = NGIDS_dataset.NGIDS_Dataset(X_train, y_train, p2i, s2i)\n",
    "train_loader = DataLoader(NGIDS_trainset, batch_size=batch_size, shuffle = True)\n",
    "\n",
    "NGIDS_valiset = NGIDS_dataset.NGIDS_Dataset(X_vali, y_vali, p2i, s2i)\n",
    "vali_loader = DataLoader(NGIDS_valiset, batch_size=batch_size, shuffle = True)"
   ]
  },
  {
   "cell_type": "code",
   "execution_count": null,
   "metadata": {
    "ExecuteTime": {
     "end_time": "2022-11-11T07:32:18.819614Z",
     "start_time": "2022-11-11T07:32:18.819614Z"
    }
   },
   "outputs": [],
   "source": [
    "%reload_ext autoreload\n",
    "%autoreload 2\n",
    "\n",
    "import models\n",
    "from models import GRU_AutoEncoder\n",
    "\n",
    "model = GRU_AutoEncoder(input_size, hidden_size, hhidden_size, num_layers, NGIDS_path_model.wv.vectors, NGIDS_sys_model.wv.vectors, device)\n",
    "model.to(device)\n",
    "\n",
    "model = models.run(model, train_loader, vali_loader, learning_rate, max_epochs, early_stop)\n",
    "\n",
    "torch.save(model, \"positive_trainingAutoEncoder.model\")"
   ]
  },
  {
   "cell_type": "code",
   "execution_count": null,
   "metadata": {
    "ExecuteTime": {
     "end_time": "2022-11-11T07:32:18.820611Z",
     "start_time": "2022-11-11T07:32:18.820611Z"
    }
   },
   "outputs": [],
   "source": [
    "from sklearn.ensemble import IsolationForest\n",
    "\n",
    "from sklearn.metrics import accuracy_score, recall_score, precision_score\n",
    "from sklearn.metrics import roc_curve, roc_auc_score\n",
    "import numpy as np\n",
    "import torch \n",
    "from torch.utils.data import DataLoader\n",
    "import matplotlib.pyplot as plt"
   ]
  },
  {
   "cell_type": "code",
   "execution_count": null,
   "metadata": {
    "ExecuteTime": {
     "end_time": "2022-11-11T07:32:18.821609Z",
     "start_time": "2022-11-11T07:32:18.821609Z"
    }
   },
   "outputs": [],
   "source": [
    "def print_result(isfo, X_test, y_test):\n",
    "    \n",
    "    NGIDS_testset = NGIDS_Dataset(X_test, y_test, p2i, s2i, slide_window_size)\n",
    "    test_loader = DataLoader(NGIDS_testset, batch_size=len(NGIDS_testset), shuffle = True)\n",
    "    \n",
    "    tmp = iter(test_loader)\n",
    "    data = tmp.next()\n",
    "    _, label = data\n",
    "    \n",
    "    output, _ = model(data)\n",
    "    output = output.detach().cpu().numpy()\n",
    "\n",
    "    y_pred = isfo.predict(output[:, -1, :])\n",
    "    y_score_sample = isfo.score_samples(output[:, -1, :])\n",
    "\n",
    "    for idx, j in enumerate(y_pred):\n",
    "        if j == -1 :\n",
    "            y_pred[idx] = 1\n",
    "        else :\n",
    "            y_pred[idx] = 0\n",
    "    \n",
    "\n",
    "    print(\"accuracy score :\", accuracy_score(label, y_pred))\n",
    "    print(\"recall score :\", recall_score(label, y_pred))\n",
    "    print(\"precision score :\", precision_score(label, y_pred))\n",
    "    print(\"roc_auc :\", roc_auc_score(label, -y_score_sample))"
   ]
  },
  {
   "cell_type": "code",
   "execution_count": null,
   "metadata": {
    "ExecuteTime": {
     "end_time": "2022-11-11T07:32:18.821609Z",
     "start_time": "2022-11-11T07:32:18.821609Z"
    }
   },
   "outputs": [],
   "source": [
    "def ISFO_result(model, n_estimators = 100, max_samples=\"auto\", contamination = 'auto', max_features = 1.0):\n",
    "    isfo = IsolationForest()\n",
    "\n",
    "    model.eval()\n",
    "\n",
    "    train_loader = DataLoader(NGIDS_dataset, batch_size=batch_size, shuffle = True)\n",
    "    train_iterator = tqdm(enumerate(train_loader), total=len(train_loader), position=0, leave=True, desc=\"training\")\n",
    "\n",
    "    for i, batch in train_iterator :\n",
    "        \n",
    "        output, _ = model(batch)\n",
    "        output = output.detach().cpu().numpy()\n",
    "        isfo.fit(output[:, -1, :])\n",
    "    \n",
    "    return isfo\n"
   ]
  },
  {
   "cell_type": "code",
   "execution_count": null,
   "metadata": {
    "ExecuteTime": {
     "end_time": "2022-11-11T07:32:18.822606Z",
     "start_time": "2022-11-11T07:32:18.822606Z"
    }
   },
   "outputs": [],
   "source": [
    "model = torch.load(\"positive_trainingAutoEncoder.model\")\n",
    "\n",
    "isfo = IsolationForest()\n",
    "\n",
    "model.eval()\n",
    "\n",
    "train_loader = DataLoader(NGIDS_dataset, batch_size=batch_size, shuffle = True)\n",
    "train_iterator = tqdm(enumerate(train_loader), total=len(train_loader), position=0, leave=True, desc=\"training\")\n",
    "\n",
    "for i, batch in train_iterator :\n",
    "    \n",
    "    output, _ = model(batch)\n",
    "    output = output.detach().cpu().numpy()\n",
    "    isfo.fit(output[:, -1, :])"
   ]
  },
  {
   "cell_type": "code",
   "execution_count": null,
   "metadata": {
    "ExecuteTime": {
     "end_time": "2022-11-11T07:32:18.822606Z",
     "start_time": "2022-11-11T07:32:18.822606Z"
    }
   },
   "outputs": [],
   "source": [
    "NGIDS_testset = NGIDS_Dataset(X_test, y_test, p2i, s2i, slide_window_size)\n",
    "test_loader = DataLoader(NGIDS_testset, batch_size=len(NGIDS_testset), shuffle = True)\n",
    "\n",
    "tmp = iter(test_loader)\n",
    "data = tmp.next()\n",
    "_, label = data\n",
    "\n",
    "output, _ = model(data)\n",
    "output = output.detach().cpu().numpy()\n",
    "\n",
    "y_pred = isfo.predict(output[:, -1, :])\n",
    "y_score_sample = isfo.score_samples(output[:, -1, :])\n",
    "\n",
    "for idx, j in enumerate(y_pred):\n",
    "    if j == -1 :\n",
    "        y_pred[idx] = 1\n",
    "    else :\n",
    "        y_pred[idx] = 0\n",
    "\n",
    "fpr, tpr, thresholds = roc_curve(label, -y_score_sample)\n",
    "\n",
    "print(\"accuracy score :\", accuracy_score(label, y_pred))\n",
    "print(\"recall score :\", recall_score(label, y_pred))\n",
    "print(\"precision score :\", precision_score(label, y_pred))\n",
    "print(\"roc_auc :\", roc_auc_score(label, -y_score_sample))\n",
    "\n",
    "plt.plot(fpr, tpr, color=\"navy\", linestyle=\"--\")\n",
    "plt.xlabel(\"False Positive Rate\")\n",
    "plt.ylabel(\"True Positive Rate\")\n",
    "plt.show()"
   ]
  },
  {
   "cell_type": "code",
   "execution_count": null,
   "metadata": {},
   "outputs": [],
   "source": []
  }
 ],
 "metadata": {
  "kernelspec": {
   "display_name": "Python 3 (ipykernel)",
   "language": "python",
   "name": "python3"
  },
  "language_info": {
   "codemirror_mode": {
    "name": "ipython",
    "version": 3
   },
   "file_extension": ".py",
   "mimetype": "text/x-python",
   "name": "python",
   "nbconvert_exporter": "python",
   "pygments_lexer": "ipython3",
   "version": "3.9.7"
  },
  "vscode": {
   "interpreter": {
    "hash": "8d4f5e5333919c7baf0c3b886effb8804f3a4378a893d12116a2d10aaca08022"
   }
  }
 },
 "nbformat": 4,
 "nbformat_minor": 2
}
