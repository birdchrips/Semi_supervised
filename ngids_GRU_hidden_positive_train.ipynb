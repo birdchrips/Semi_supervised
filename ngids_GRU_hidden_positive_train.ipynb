{
 "cells": [
  {
   "cell_type": "code",
   "execution_count": 6,
   "metadata": {
    "ExecuteTime": {
     "end_time": "2022-11-11T09:00:57.079524Z",
     "start_time": "2022-11-11T09:00:57.067601Z"
    }
   },
   "outputs": [],
   "source": [
    "import pandas as pd\n",
    "import numpy as np\n",
    "import torch \n",
    "import torch.nn as nn\n",
    "from torch.utils.data import DataLoader\n",
    "from sklearn.model_selection import train_test_split\n",
    "\n",
    "import matplotlib.pyplot as plt\n",
    "from tqdm import tqdm\n",
    "import time\n",
    "\n",
    "NGIDS_path = './dataset/NGIDS_host_log_1-99.csv'\n",
    "\n",
    "device = torch.device('cuda') # GPU 사용\n",
    "batch_size = 256\n",
    "slide_window_size = 100\n",
    "learning_rate = 0.001\n",
    "max_epochs = 150\n",
    "hidden_size = 8\n",
    "hhidden_size = 6\n",
    "num_layers = 1\n",
    "early_stop = 20"
   ]
  },
  {
   "cell_type": "code",
   "execution_count": 7,
   "metadata": {
    "ExecuteTime": {
     "end_time": "2022-11-11T09:02:07.845863Z",
     "start_time": "2022-11-11T09:00:58.618980Z"
    }
   },
   "outputs": [
    {
     "name": "stdout",
     "output_type": "stream",
     "text": [
      "positive :  882954\n",
      "negative :  17588\n"
     ]
    }
   ],
   "source": [
    "NGIDS = pd.read_csv(NGIDS_path)\n",
    "        \n",
    "dropna_NGIDS = NGIDS.dropna(subset=['path', 'sys_call', 'label'])\n",
    "\n",
    "path = np.array(dropna_NGIDS['path'].to_list())\n",
    "syscall = np.array(dropna_NGIDS['sys_call'].to_list())\n",
    "label = np.array(dropna_NGIDS['label'].to_list())\n",
    "\n",
    "l = int(len(path) / slide_window_size)\n",
    "\n",
    "path = path[:l * slide_window_size].reshape(l, slide_window_size)\n",
    "syscall = syscall[:l * slide_window_size].reshape(l, slide_window_size)\n",
    "label = label[:l * slide_window_size].reshape(l, slide_window_size)\n",
    "\n",
    "label = np.max(label, axis = 1)\n",
    "#label = label[:, -1]\n",
    "\n",
    "positive_path = []\n",
    "positive_syscall = []\n",
    "\n",
    "negative_path = []\n",
    "negative_syscall = []\n",
    "\n",
    "for i in range(l) :\n",
    "    if label[i] == 1 :\n",
    "        negative_path.append(path[i])\n",
    "        negative_syscall.append(syscall[i])\n",
    "    else :\n",
    "        positive_path.append(path[i])\n",
    "        positive_syscall.append(syscall[i])\n",
    "\n",
    "\n",
    "positive_len = len(positive_path)\n",
    "negative_len = len(negative_path)\n",
    "\n",
    "print(\"positive : \", positive_len)\n",
    "print(\"negative : \", negative_len)\n"
   ]
  },
  {
   "cell_type": "code",
   "execution_count": 10,
   "metadata": {
    "ExecuteTime": {
     "end_time": "2022-11-11T09:02:09.687803Z",
     "start_time": "2022-11-11T09:02:09.035538Z"
    }
   },
   "outputs": [],
   "source": [
    "X_train, X_vali, y_train, y_vali = train_test_split(\n",
    "    list(zip(positive_path[:positive_len - negative_len - 1], positive_syscall[:positive_len - negative_len - 1]))\n",
    "    , [0 for i in range(positive_len - negative_len - 1)], test_size=0.2, random_state=42)\n",
    "\n",
    "X_test = list(zip(positive_path[positive_len - negative_len : positive_len] + negative_path, \n",
    "                positive_syscall[positive_len - negative_len : positive_len] + negative_syscall))\n",
    "y_test = [ 0 for i in range(negative_len)] + [ 1 for i in range(negative_len)]"
   ]
  },
  {
   "cell_type": "code",
   "execution_count": 11,
   "metadata": {
    "ExecuteTime": {
     "end_time": "2022-11-11T09:02:09.703269Z",
     "start_time": "2022-11-11T09:02:09.687803Z"
    }
   },
   "outputs": [
    {
     "name": "stdout",
     "output_type": "stream",
     "text": [
      "692292 692292\n",
      "173073 173073\n",
      "35176 35176\n"
     ]
    }
   ],
   "source": [
    "print(len(X_train), len(y_train))\n",
    "print(len(X_vali), len(y_vali))\n",
    "print(len(X_test), len(y_test))"
   ]
  },
  {
   "cell_type": "code",
   "execution_count": 12,
   "metadata": {
    "ExecuteTime": {
     "end_time": "2022-11-11T09:02:09.920989Z",
     "start_time": "2022-11-11T09:02:09.703269Z"
    }
   },
   "outputs": [],
   "source": [
    "import gensim\n",
    "\n",
    "def save_path(vector_size, window, data_name=\"NGIDS_path_w2v\"):\n",
    "    return \"./dataset/PathSystem/\" + f\"vectorsize{vector_size}_window{window}_\" + data_name\n",
    "\n",
    "def save_sys(vector_size, window, data_name = \"NGIDS_vector\"):\n",
    "    return \"./dataset/PathSystem/\" + f\"vectorsize{vector_size}_window{window}_\" + data_name\n",
    "\n",
    "\n",
    "vector_size = 10\n",
    "window = 3\n",
    "input_size = vector_size\n",
    "\n",
    "NGIDS_sys_model = gensim.models.Word2Vec.load(save_sys(vector_size, window))\n",
    "NGIDS_path_model = gensim.models.Word2Vec.load(save_path(vector_size, window, \"NGIDS_vector\"))"
   ]
  },
  {
   "cell_type": "code",
   "execution_count": null,
   "metadata": {
    "ExecuteTime": {
     "start_time": "2022-11-11T09:01:03.825Z"
    }
   },
   "outputs": [],
   "source": [
    "p2i = NGIDS_path_model.wv.key_to_index\n",
    "s2i = NGIDS_sys_model.wv.key_to_index\n",
    "\n",
    "NGIDS_dataset = NGIDS_Dataset(X_train, y_train, p2i, s2i, slide_window_size)\n",
    "train_loader = DataLoader(NGIDS_dataset, batch_size=batch_size, shuffle = True)\n",
    "\n",
    "NGIDS_valiset = NGIDS_Dataset(X_vali, y_vali, p2i, s2i, slide_window_size)\n",
    "vali_loader = DataLoader(NGIDS_valiset, batch_size=batch_size, shuffle = True)\n",
    "\n",
    "NGIDS_testset = NGIDS_Dataset(X_test, y_test, p2i, s2i, slide_window_size)\n"
   ]
  },
  {
   "cell_type": "code",
   "execution_count": null,
   "metadata": {
    "ExecuteTime": {
     "start_time": "2022-11-11T09:01:04.153Z"
    }
   },
   "outputs": [],
   "source": [
    "class Encoder(nn.Module):\n",
    "    def __init__(self, input_size, hidden_size, hhidden_size, num_layers, dropout_p=0.5):\n",
    "        super(Encoder, self).__init__()\n",
    "        self.gru1 = nn.GRU(input_size, hidden_size, batch_first=True)\n",
    "        self.dropout = nn.Dropout(p=dropout_p)\n",
    "        self.gru2 = nn.GRU(hidden_size, hhidden_size, batch_first=True)\n",
    "        \n",
    "    def forward(self, batch):\n",
    "        batch, _ = self.gru1(batch)\n",
    "        batch = self.dropout(batch)\n",
    "        outputs, hidden = self.gru2(batch)\n",
    "        return outputs, hidden\n",
    "\n",
    "class Decoder(nn.Module):\n",
    "    def __init__(self, input_size, hidden_size, hhidden_size, num_layers, dropout_p=0.5):\n",
    "        super(Decoder, self).__init__()\n",
    "        self.gru1 = nn.GRU(hhidden_size, hidden_size, batch_first=True)\n",
    "        self.dropout = nn.Dropout(p=dropout_p)\n",
    "        self.gru2 = nn.GRU(hidden_size, input_size, batch_first=True)\n",
    "\n",
    "    def forward(self, batch):\n",
    "        batch, _ = self.gru1(batch)\n",
    "        batch = self.dropout(batch)\n",
    "        output, hidden = self.gru2(batch)\n",
    "        return output, hidden"
   ]
  },
  {
   "cell_type": "code",
   "execution_count": null,
   "metadata": {
    "ExecuteTime": {
     "start_time": "2022-11-11T09:01:04.898Z"
    }
   },
   "outputs": [],
   "source": [
    "class GRU_AutoEncoder(nn.Module):\n",
    "    def __init__(self, input_size, hidden_size, hhidden_size, num_layers, path_vecs, sys_vecs):\n",
    "        super(GRU_AutoEncoder, self).__init__()\n",
    "        \n",
    "        self.path_emb = nn.Embedding.from_pretrained(torch.tensor(path_vecs, dtype=torch.float).cuda(), freeze=True)\n",
    "        self.sys_emb = nn.Embedding.from_pretrained(torch.tensor(sys_vecs, dtype=torch.float).cuda(), freeze=True)\n",
    "\n",
    "        self.encoder = Encoder(input_size=input_size, hidden_size=hidden_size, hhidden_size=hhidden_size, num_layers=num_layers)\n",
    "        self.reconstruct_decoder = Decoder(input_size=input_size, hidden_size=hidden_size, hhidden_size=hhidden_size, num_layers=num_layers)\n",
    "        self.input_size = input_size\n",
    "\n",
    "        self.criterion = nn.MSELoss()\n",
    "\n",
    "    def forward(self, batch):\n",
    "        batch, _  = batch\n",
    "\n",
    "        batch = batch.to(device)\n",
    "\n",
    "        batch_size, sequence_length, _ = batch.size()\n",
    "        vector_size = self.input_size\n",
    "        \n",
    "        path_batch = self.path_emb(batch[:,:,0])\n",
    "        sys_batch = self.sys_emb(batch[:,:,1])\n",
    "\n",
    "        batch = path_batch + sys_batch\n",
    "        batch = batch.reshape(batch_size, sequence_length, vector_size)\n",
    "        \n",
    "        outputs, encoder_hidden = self.encoder(batch)\n",
    "        outputs, decoder_hidden = self.reconstruct_decoder(outputs)\n",
    "        \n",
    "        reconstruct_loss = self.criterion(outputs, batch)\n",
    "\n",
    "        batch = batch.to(\"cpu\")\n",
    "        torch.cuda.empty_cache()\n",
    "\n",
    "        return outputs, reconstruct_loss"
   ]
  },
  {
   "cell_type": "code",
   "execution_count": null,
   "metadata": {
    "ExecuteTime": {
     "start_time": "2022-11-11T09:01:05.865Z"
    }
   },
   "outputs": [],
   "source": [
    "def run(model, train_loader):\n",
    "\n",
    "    optimizer = torch.optim.Adam(model.parameters(), lr=learning_rate)\n",
    "\n",
    "    epochs = range(max_epochs)\n",
    "    \n",
    "    loss_list = []\n",
    "    min_loss = 1\n",
    "    count = 0\n",
    "    \n",
    "    for epoch in epochs:\n",
    "        model.train()\n",
    "        optimizer.zero_grad()\n",
    "\n",
    "        for i, batch_data in enumerate(train_loader):\n",
    "\n",
    "            _, reconstruct_loss = model(batch_data)\n",
    "\n",
    "            loss = reconstruct_loss\n",
    "            optimizer.zero_grad()\n",
    "            loss.backward()\n",
    "            optimizer.step()\n",
    "\n",
    "        model.eval()        \n",
    "        epoch_loss = 0\n",
    "\n",
    "        with torch.no_grad() :\n",
    "            for i, batch_data in enumerate(vali_loader):\n",
    "                _, reconstruct_loss = model(batch_data)\n",
    "                epoch_loss = epoch_loss + reconstruct_loss\n",
    "            \n",
    "            epoch_loss = epoch_loss / len(vali_loader)\n",
    "            loss_list.append(epoch_loss)\n",
    "\n",
    "            print(f\"[{epoch + 1}/{max_epochs}] loss : {epoch_loss}  -- \" + \n",
    "                    f\"{time.strftime('%H:%M:%S', time.localtime(time.time()))}\")\n",
    "\n",
    "        if min_loss > epoch_loss :\n",
    "            min_loss = epoch_loss\n",
    "            save_model = model\n",
    "            count = 0\n",
    "        else :\n",
    "            count = count + 1\n",
    "\n",
    "        #torch.save(model, f\"GRU_Positive_training_Auto_encoder_epoch{epoch}.model\")\n",
    "\n",
    "        if count >= early_stop :\n",
    "            break\n",
    "            \n",
    "    return save_model"
   ]
  },
  {
   "cell_type": "code",
   "execution_count": 12,
   "metadata": {},
   "outputs": [
    {
     "name": "stdout",
     "output_type": "stream",
     "text": [
      "[1/150] loss : 0.2257036566734314  -- 15:10:19\n",
      "[2/150] loss : 0.22168932855129242  -- 15:10:58\n",
      "[3/150] loss : 0.220005065202713  -- 15:11:38\n",
      "[4/150] loss : 0.21732881665229797  -- 15:12:18\n",
      "[5/150] loss : 0.2165941745042801  -- 15:12:58\n",
      "[6/150] loss : 0.216220423579216  -- 15:13:38\n",
      "[7/150] loss : 0.2159835547208786  -- 15:14:18\n",
      "[8/150] loss : 0.2157013714313507  -- 15:14:58\n",
      "[9/150] loss : 0.21545495092868805  -- 15:15:38\n",
      "[10/150] loss : 0.21528199315071106  -- 15:16:18\n",
      "[11/150] loss : 0.21521101891994476  -- 15:16:59\n",
      "[12/150] loss : 0.215177521109581  -- 15:17:39\n",
      "[13/150] loss : 0.21505936980247498  -- 15:18:19\n",
      "[14/150] loss : 0.21498778462409973  -- 15:19:00\n",
      "[15/150] loss : 0.21482466161251068  -- 15:19:40\n",
      "[16/150] loss : 0.21485555171966553  -- 15:20:21\n",
      "[17/150] loss : 0.21463866531848907  -- 15:21:01\n",
      "[18/150] loss : 0.21473044157028198  -- 15:21:41\n",
      "[19/150] loss : 0.2147301733493805  -- 15:22:22\n",
      "[20/150] loss : 0.21464236080646515  -- 15:23:02\n",
      "[21/150] loss : 0.21438612043857574  -- 15:23:43\n",
      "[22/150] loss : 0.21440757811069489  -- 15:24:23\n",
      "[23/150] loss : 0.21438322961330414  -- 15:25:04\n",
      "[24/150] loss : 0.21431811153888702  -- 15:25:44\n",
      "[25/150] loss : 0.21429426968097687  -- 15:26:25\n",
      "[26/150] loss : 0.21455591917037964  -- 15:27:05\n",
      "[27/150] loss : 0.21420811116695404  -- 15:27:46\n",
      "[28/150] loss : 0.21413689851760864  -- 15:28:26\n",
      "[29/150] loss : 0.21529823541641235  -- 15:29:07\n",
      "[30/150] loss : 0.2141699641942978  -- 15:29:47\n",
      "[31/150] loss : 0.21406719088554382  -- 15:30:27\n",
      "[32/150] loss : 0.2142494171857834  -- 15:31:07\n",
      "[33/150] loss : 0.21393531560897827  -- 15:31:48\n",
      "[34/150] loss : 0.21404393017292023  -- 15:32:28\n",
      "[35/150] loss : 0.2137802690267563  -- 15:33:08\n",
      "[36/150] loss : 0.21371473371982574  -- 15:33:49\n",
      "[37/150] loss : 0.21393539011478424  -- 15:34:29\n",
      "[38/150] loss : 0.21368247270584106  -- 15:35:09\n",
      "[39/150] loss : 0.21341876685619354  -- 15:35:49\n",
      "[40/150] loss : 0.21325531601905823  -- 15:36:29\n",
      "[41/150] loss : 0.2133515328168869  -- 15:37:09\n",
      "[42/150] loss : 0.2133939117193222  -- 15:37:49\n",
      "[43/150] loss : 0.21311362087726593  -- 15:38:29\n",
      "[44/150] loss : 0.2132510542869568  -- 15:39:09\n",
      "[45/150] loss : 0.21309290826320648  -- 15:39:49\n",
      "[46/150] loss : 0.21316929161548615  -- 15:40:29\n",
      "[47/150] loss : 0.21324583888053894  -- 15:41:09\n",
      "[48/150] loss : 0.21310728788375854  -- 15:41:49\n",
      "[49/150] loss : 0.21308957040309906  -- 15:42:29\n",
      "[50/150] loss : 0.21313577890396118  -- 15:43:09\n",
      "[51/150] loss : 0.2130945473909378  -- 15:43:50\n",
      "[52/150] loss : 0.21319109201431274  -- 15:44:29\n",
      "[53/150] loss : 0.21354807913303375  -- 15:45:09\n",
      "[54/150] loss : 0.2134813368320465  -- 15:45:50\n",
      "[55/150] loss : 0.21291282773017883  -- 15:46:30\n",
      "[56/150] loss : 0.2129395753145218  -- 15:47:10\n",
      "[57/150] loss : 0.2128627449274063  -- 15:47:50\n",
      "[58/150] loss : 0.21286214888095856  -- 15:48:30\n",
      "[59/150] loss : 0.21285703778266907  -- 15:49:10\n",
      "[60/150] loss : 0.2128136307001114  -- 15:49:50\n",
      "[61/150] loss : 0.21278513967990875  -- 15:50:31\n",
      "[62/150] loss : 0.21282818913459778  -- 15:51:11\n",
      "[63/150] loss : 0.21291086077690125  -- 15:51:51\n",
      "[64/150] loss : 0.21278196573257446  -- 15:52:31\n",
      "[65/150] loss : 0.2129056304693222  -- 15:53:10\n",
      "[66/150] loss : 0.21270668506622314  -- 15:53:50\n",
      "[67/150] loss : 0.21279264986515045  -- 15:54:31\n",
      "[68/150] loss : 0.2126116156578064  -- 15:55:11\n",
      "[69/150] loss : 0.21260318160057068  -- 15:55:51\n",
      "[70/150] loss : 0.21257586777210236  -- 15:56:30\n",
      "[71/150] loss : 0.21256200969219208  -- 15:57:09\n",
      "[72/150] loss : 0.21280241012573242  -- 15:57:49\n",
      "[73/150] loss : 0.2125617116689682  -- 15:58:29\n",
      "[74/150] loss : 0.2125663161277771  -- 15:59:09\n",
      "[75/150] loss : 0.21261896193027496  -- 15:59:49\n",
      "[76/150] loss : 0.2128613144159317  -- 16:00:28\n",
      "[77/150] loss : 0.21250194311141968  -- 16:01:07\n",
      "[78/150] loss : 0.21261747181415558  -- 16:01:46\n",
      "[79/150] loss : 0.2124917060136795  -- 16:02:25\n",
      "[80/150] loss : 0.22054728865623474  -- 16:03:04\n",
      "[81/150] loss : 0.21466457843780518  -- 16:03:44\n",
      "[82/150] loss : 0.21305015683174133  -- 16:04:23\n",
      "[83/150] loss : 0.21268188953399658  -- 16:05:02\n",
      "[84/150] loss : 0.21254681050777435  -- 16:05:41\n",
      "[85/150] loss : 0.2125052809715271  -- 16:06:21\n",
      "[86/150] loss : 0.21278585493564606  -- 16:07:00\n",
      "[87/150] loss : 0.21245025098323822  -- 16:07:39\n",
      "[88/150] loss : 0.21240921318531036  -- 16:08:18\n",
      "[89/150] loss : 0.21239276230335236  -- 16:08:58\n",
      "[90/150] loss : 0.21395905315876007  -- 16:09:38\n",
      "[91/150] loss : 0.21253764629364014  -- 16:10:18\n",
      "[92/150] loss : 0.2124406099319458  -- 16:10:58\n",
      "[93/150] loss : 0.2124147117137909  -- 16:11:37\n",
      "[94/150] loss : 0.2123749703168869  -- 16:12:15\n",
      "[95/150] loss : 0.212325319647789  -- 16:12:54\n",
      "[96/150] loss : 0.21238547563552856  -- 16:13:33\n",
      "[97/150] loss : 0.2124449759721756  -- 16:14:11\n",
      "[98/150] loss : 0.21238480508327484  -- 16:14:50\n",
      "[99/150] loss : 0.2125038057565689  -- 16:15:29\n",
      "[100/150] loss : 0.21247702836990356  -- 16:16:07\n",
      "[101/150] loss : 0.25418606400489807  -- 16:16:46\n",
      "[102/150] loss : 0.24111595749855042  -- 16:17:25\n",
      "[103/150] loss : 0.2193688154220581  -- 16:18:03\n",
      "[104/150] loss : 0.21532878279685974  -- 16:18:42\n",
      "[105/150] loss : 0.28959718346595764  -- 16:19:21\n",
      "[106/150] loss : 0.28921765089035034  -- 16:19:59\n",
      "[107/150] loss : 0.28997504711151123  -- 16:20:38\n",
      "[108/150] loss : 0.30715370178222656  -- 16:21:16\n",
      "[109/150] loss : 0.29724735021591187  -- 16:21:55\n",
      "[110/150] loss : 0.29562675952911377  -- 16:22:34\n",
      "[111/150] loss : 0.2909800708293915  -- 16:23:12\n",
      "[112/150] loss : 0.2736853063106537  -- 16:23:51\n",
      "[113/150] loss : 0.2906796634197235  -- 16:24:30\n",
      "[114/150] loss : 0.29784178733825684  -- 16:25:08\n",
      "[115/150] loss : 0.2692623436450958  -- 16:25:47\n"
     ]
    }
   ],
   "source": [
    "model = GRU_AutoEncoder(input_size, hidden_size, num_layers, hhidden_size, NGIDS_path_model.wv.vectors, NGIDS_sys_model.wv.vectors)\n",
    "model.to(device)\n",
    "\n",
    "model = run(model, train_loader)\n",
    "\n",
    "torch.save(model, \"positive_trainingAutoEncoder.model\")\n",
    "\n",
    "print(\"learning finished\")"
   ]
  },
  {
   "cell_type": "code",
   "execution_count": null,
   "metadata": {
    "ExecuteTime": {
     "start_time": "2022-11-11T09:01:08.246Z"
    }
   },
   "outputs": [],
   "source": [
    "from sklearn.ensemble import IsolationForest\n",
    "\n",
    "from sklearn.metrics import accuracy_score, recall_score, precision_score\n",
    "from sklearn.metrics import roc_curve, roc_auc_score\n",
    "import numpy as np\n",
    "import torch \n",
    "from torch.utils.data import DataLoader\n",
    "import matplotlib.pyplot as plt"
   ]
  },
  {
   "cell_type": "code",
   "execution_count": null,
   "metadata": {
    "ExecuteTime": {
     "start_time": "2022-11-11T09:01:08.849Z"
    }
   },
   "outputs": [],
   "source": [
    "def print_result(isfo, X_test, y_test):\n",
    "    \n",
    "    NGIDS_testset = NGIDS_Dataset(X_test, y_test, p2i, s2i, slide_window_size)\n",
    "    test_loader = DataLoader(NGIDS_testset, batch_size=len(NGIDS_testset), shuffle = True)\n",
    "    \n",
    "    tmp = iter(test_loader)\n",
    "    data = tmp.next()\n",
    "    _, label = data\n",
    "    \n",
    "    output, _ = model(data)\n",
    "    output = output.detach().cpu().numpy()\n",
    "\n",
    "    y_pred = isfo.predict(output[:, -1, :])\n",
    "    y_score_sample = isfo.score_samples(output[:, -1, :])\n",
    "\n",
    "    for idx, j in enumerate(y_pred):\n",
    "        if j == -1 :\n",
    "            y_pred[idx] = 1\n",
    "        else :\n",
    "            y_pred[idx] = 0\n",
    "    \n",
    "\n",
    "    print(\"accuracy score :\", accuracy_score(label, y_pred))\n",
    "    print(\"recall score :\", recall_score(label, y_pred))\n",
    "    print(\"precision score :\", precision_score(label, y_pred))\n",
    "    print(\"roc_auc :\", roc_auc_score(label, -y_score_sample))"
   ]
  },
  {
   "cell_type": "code",
   "execution_count": null,
   "metadata": {
    "ExecuteTime": {
     "start_time": "2022-11-11T09:01:09.465Z"
    }
   },
   "outputs": [],
   "source": [
    "def ISFO_result(model, n_estimators = 100, max_samples=\"auto\", contamination = 'auto', max_features = 1.0):\n",
    "    isfo = IsolationForest()\n",
    "\n",
    "    model.eval()\n",
    "\n",
    "    train_loader = DataLoader(NGIDS_dataset, batch_size=batch_size, shuffle = True)\n",
    "    train_iterator = tqdm(enumerate(train_loader), total=len(train_loader), position=0, leave=True, desc=\"training\")\n",
    "\n",
    "    for i, batch in train_iterator :\n",
    "        \n",
    "        output, _ = model(batch)\n",
    "        output = output.detach().cpu().numpy()\n",
    "        isfo.fit(output[:, -1, :])\n",
    "    \n",
    "    return isfo\n"
   ]
  },
  {
   "cell_type": "code",
   "execution_count": null,
   "metadata": {
    "ExecuteTime": {
     "start_time": "2022-11-11T09:01:09.986Z"
    }
   },
   "outputs": [],
   "source": [
    "model = torch.load(\"positive_trainingAutoEncoder.model\")\n",
    "\n",
    "isfo = IsolationForest(n_estimators=100)\n",
    "\n",
    "model.eval()\n",
    "\n",
    "train_loader = DataLoader(NGIDS_dataset, batch_size=batch_size, shuffle = True)\n",
    "train_iterator = tqdm(enumerate(train_loader), total=len(train_loader), position=0, leave=True, desc=\"training\")\n",
    "\n",
    "for i, batch in train_iterator :\n",
    "    \n",
    "    output, _ = model(batch)\n",
    "    output = output.detach().cpu().numpy()\n",
    "    isfo.fit(output[:, -1, :])"
   ]
  },
  {
   "cell_type": "code",
   "execution_count": 17,
   "metadata": {},
   "outputs": [
    {
     "name": "stdout",
     "output_type": "stream",
     "text": [
      "accuracy score : 0.6217591539686149\n",
      "recall score : 0.37275415055719807\n",
      "precision score : 0.7425529505040208\n",
      "roc_auc : 0.7193848158406431\n"
     ]
    },
    {
     "data": {
      "image/png": "[encoded data removed]",
      "text/plain": [
       "<Figure size 432x288 with 1 Axes>"
      ]
     },
     "metadata": {
      "needs_background": "light"
     },
     "output_type": "display_data"
    }
   ],
   "source": [
    "NGIDS_testset = NGIDS_Dataset(X_test, y_test, p2i, s2i, slide_window_size)\n",
    "test_loader = DataLoader(NGIDS_testset, batch_size=len(NGIDS_testset), shuffle = True)\n",
    "\n",
    "tmp = iter(test_loader)\n",
    "data = tmp.next()\n",
    "_, label = data\n",
    "\n",
    "output, _ = model(data)\n",
    "output = output.detach().cpu().numpy()\n",
    "\n",
    "y_pred = isfo.predict(output[:, -1, :])\n",
    "y_score_sample = isfo.score_samples(output[:, -1, :])\n",
    "\n",
    "for idx, j in enumerate(y_pred):\n",
    "    if j == -1 :\n",
    "        y_pred[idx] = 1\n",
    "    else :\n",
    "        y_pred[idx] = 0\n",
    "\n",
    "fpr, tpr, thresholds = roc_curve(label, -y_score_sample)\n",
    "\n",
    "print(\"accuracy score :\", accuracy_score(label, y_pred))\n",
    "print(\"recall score :\", recall_score(label, y_pred))\n",
    "print(\"precision score :\", precision_score(label, y_pred))\n",
    "print(\"roc_auc :\", roc_auc_score(label, -y_score_sample))\n",
    "\n",
    "plt.plot(fpr, tpr, color=\"navy\")\n",
    "plt.xlabel(\"False Positive Rate\")\n",
    "plt.ylabel(\"True Positive Rate\")\n",
    "plt.show()"
   ]
  },
  {
   "cell_type": "code",
   "execution_count": null,
   "metadata": {},
   "outputs": [],
   "source": []
  }
 ],
 "metadata": {
  "kernelspec": {
   "display_name": "Python 3 (ipykernel)",
   "language": "python",
   "name": "python3"
  },
  "language_info": {
   "codemirror_mode": {
    "name": "ipython",
    "version": 3
   },
   "file_extension": ".py",
   "mimetype": "text/x-python",
   "name": "python",
   "nbconvert_exporter": "python",
   "pygments_lexer": "ipython3",
   "version": "3.9.7 (default, Sep 16 2021, 16:59:28) [MSC v.1916 64 bit (AMD64)]"
  },
  "vscode": {
   "interpreter": {
    "hash": "8d4f5e5333919c7baf0c3b886effb8804f3a4378a893d12116a2d10aaca08022"
   }
  }
 },
 "nbformat": 4,
 "nbformat_minor": 2
}
