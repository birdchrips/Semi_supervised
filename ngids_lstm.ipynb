{
 "cells": [
  {
   "cell_type": "code",
   "execution_count": null,
   "metadata": {},
   "outputs": [],
   "source": [
    "import pandas as pd\n",
    "import numpy as np\n",
    "import torch \n",
    "import torch.nn as nn\n",
    "\n",
    "\n",
    "NGIDS_path = './dataset/NGIDS_host_log_1-99.csv'"
   ]
  },
  {
   "cell_type": "code",
   "execution_count": null,
   "metadata": {},
   "outputs": [],
   "source": [
    "NGIDS = pd.read_csv(NGIDS_path)\n",
    "        \n",
    "dropna_NGIDS = NGIDS.dropna(subset=['path', 'sys_call', 'label'])\n",
    "\n",
    "path = np.array(dropna_NGIDS['path'].to_list())\n",
    "sentence = np.array(dropna_NGIDS['sys_call'].to_list())\n",
    "label = np.array(dropna_NGIDS['label'].to_list())"
   ]
  }
 ],
 "metadata": {
  "kernelspec": {
   "display_name": "Python 3.9.7 ('hyun')",
   "language": "python",
   "name": "python3"
  },
  "language_info": {
   "name": "python",
   "version": "3.9.7"
  },
  "orig_nbformat": 4,
  "vscode": {
   "interpreter": {
    "hash": "8d4f5e5333919c7baf0c3b886effb8804f3a4378a893d12116a2d10aaca08022"
   }
  }
 },
 "nbformat": 4,
 "nbformat_minor": 2
}
