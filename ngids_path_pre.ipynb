{
 "cells": [
  {
   "cell_type": "code",
   "execution_count": 1,
   "metadata": {},
   "outputs": [],
   "source": [
    "import pandas as pd\n",
    "import numpy as np\n",
    "\n",
    "NGIDS_path = './dataset/NGIDS_host_log_1-99.csv'"
   ]
  },
  {
   "cell_type": "code",
   "execution_count": null,
   "metadata": {},
   "outputs": [],
   "source": [
    "NGIDS = pd.read_csv(NGIDS_path)\n",
    "        \n",
    "dropna_NGIDS = NGIDS.dropna(subset=['path', 'sys_call', 'label'])\n",
    "\n",
    "path = dropna_NGIDS['path'].to_list()\n",
    "\n",
    "def save_path(vector_size, window, data_name):\n",
    "    return \"./dataset/SystemCall/\" + f\"vectorsize{vector_size}_window{window}_\" + data_name"
   ]
  },
  {
   "cell_type": "markdown",
   "metadata": {},
   "source": [
    "### Word2Vec"
   ]
  },
  {
   "cell_type": "code",
   "execution_count": null,
   "metadata": {},
   "outputs": [],
   "source": [
    "from gensim.models import Word2Vec\n",
    "\n",
    "def make_w2v_vector(sentence, vector_size, window, data_name = 'NGIDS_vector'):\n",
    "    model = Word2Vec(sentences=[sentence], vector_size = vector_size, window = window, min_count = 1, workers = 4 , sg = 1)\n",
    "\n",
    "    model.save(save_path(vector_size, window, data_name))\n"
   ]
  },
  {
   "cell_type": "markdown",
   "metadata": {},
   "source": [
    "### GloVe\n",
    "\n",
    "\n",
    "python 3.9 이상부턴 동작안함"
   ]
  },
  {
   "cell_type": "code",
   "execution_count": 34,
   "metadata": {},
   "outputs": [
    {
     "ename": "ModuleNotFoundError",
     "evalue": "No module named 'glove.corpus_cython'",
     "output_type": "error",
     "traceback": [
      "\u001b[1;31m---------------------------------------------------------------------------\u001b[0m",
      "\u001b[1;31mModuleNotFoundError\u001b[0m                       Traceback (most recent call last)",
      "\u001b[1;32mc:\\Users\\AJOU\\Lee_JW\\Semi_supervised\\ngids_path_pre.ipynb 셀 6\u001b[0m in \u001b[0;36m<cell line: 1>\u001b[1;34m()\u001b[0m\n\u001b[1;32m----> <a href='vscode-notebook-cell:/c%3A/Users/AJOU/Lee_JW/Semi_supervised/ngids_path_pre.ipynb#ch0000005?line=0'>1</a>\u001b[0m \u001b[39mfrom\u001b[39;00m \u001b[39mglove\u001b[39;00m \u001b[39mimport\u001b[39;00m Corpus, Glove\n\u001b[0;32m      <a href='vscode-notebook-cell:/c%3A/Users/AJOU/Lee_JW/Semi_supervised/ngids_path_pre.ipynb#ch0000005?line=2'>3</a>\u001b[0m \u001b[39mdef\u001b[39;00m \u001b[39mmake_glove_vector\u001b[39m(sentence, vector_size, window, save_path \u001b[39m=\u001b[39m \u001b[39m'\u001b[39m\u001b[39mNGIDS_vector\u001b[39m\u001b[39m'\u001b[39m):\n\u001b[0;32m      <a href='vscode-notebook-cell:/c%3A/Users/AJOU/Lee_JW/Semi_supervised/ngids_path_pre.ipynb#ch0000005?line=4'>5</a>\u001b[0m     corpus \u001b[39m=\u001b[39m Corpus()\n",
      "File \u001b[1;32mc:\\Users\\AJOU\\anaconda3\\envs\\Glove\\lib\\site-packages\\glove\\__init__.py:1\u001b[0m, in \u001b[0;36m<module>\u001b[1;34m\u001b[0m\n\u001b[1;32m----> 1\u001b[0m \u001b[39mfrom\u001b[39;00m \u001b[39m.\u001b[39;00m\u001b[39mcorpus\u001b[39;00m \u001b[39mimport\u001b[39;00m Corpus\n\u001b[0;32m      2\u001b[0m \u001b[39mfrom\u001b[39;00m \u001b[39m.\u001b[39;00m\u001b[39mglove\u001b[39;00m \u001b[39mimport\u001b[39;00m Glove\n",
      "File \u001b[1;32mc:\\Users\\AJOU\\anaconda3\\envs\\Glove\\lib\\site-packages\\glove\\corpus.py:10\u001b[0m, in \u001b[0;36m<module>\u001b[1;34m\u001b[0m\n\u001b[0;32m      7\u001b[0m \u001b[39mexcept\u001b[39;00m \u001b[39mImportError\u001b[39;00m:\n\u001b[0;32m      8\u001b[0m     \u001b[39mimport\u001b[39;00m \u001b[39mpickle\u001b[39;00m\n\u001b[1;32m---> 10\u001b[0m \u001b[39mfrom\u001b[39;00m \u001b[39m.\u001b[39;00m\u001b[39mcorpus_cython\u001b[39;00m \u001b[39mimport\u001b[39;00m construct_cooccurrence_matrix\n\u001b[0;32m     13\u001b[0m \u001b[39mclass\u001b[39;00m \u001b[39mCorpus\u001b[39;00m(\u001b[39mobject\u001b[39m):\n\u001b[0;32m     14\u001b[0m     \u001b[39m\"\"\"\u001b[39;00m\n\u001b[0;32m     15\u001b[0m \u001b[39m    Class for constructing a cooccurrence matrix\u001b[39;00m\n\u001b[0;32m     16\u001b[0m \u001b[39m    from a corpus.\u001b[39;00m\n\u001b[1;32m   (...)\u001b[0m\n\u001b[0;32m     20\u001b[0m \u001b[39m    from the corpus.\u001b[39;00m\n\u001b[0;32m     21\u001b[0m \u001b[39m    \"\"\"\u001b[39;00m\n",
      "\u001b[1;31mModuleNotFoundError\u001b[0m: No module named 'glove.corpus_cython'"
     ]
    }
   ],
   "source": [
    "from glove import Corpus, Glove\n",
    "\n",
    "def make_glove_vector(sentence, vector_size, window, save_path = 'NGIDS_vector'):\n",
    "\n",
    "    corpus = Corpus()\n",
    "    \n",
    "    corpus.fit([sentence], window=5)\n",
    "    glove = Glove(no_components=100, learning_rate=0.05)\n",
    "\n",
    "    # 학습에 이용할 쓰레드의 개수는 4로 설정, 에포크는 20.\n",
    "    glove.fit(corpus.matrix, epochs=20, no_threads=4, verbose=True)\n",
    "    glove.add_dictionary(corpus.dictionary)"
   ]
  }
 ],
 "metadata": {
  "kernelspec": {
   "display_name": "Python 3.8.13 ('Glove')",
   "language": "python",
   "name": "python3"
  },
  "language_info": {
   "codemirror_mode": {
    "name": "ipython",
    "version": 3
   },
   "file_extension": ".py",
   "mimetype": "text/x-python",
   "name": "python",
   "nbconvert_exporter": "python",
   "pygments_lexer": "ipython3",
   "version": "3.8.13"
  },
  "orig_nbformat": 4,
  "vscode": {
   "interpreter": {
    "hash": "19d2a55ed933db76bf85104612f1acf4b10ca0da0b4f30f2790822792d02ecf7"
   }
  }
 },
 "nbformat": 4,
 "nbformat_minor": 2
}
