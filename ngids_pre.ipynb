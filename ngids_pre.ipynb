{
 "cells": [
  {
   "cell_type": "code",
   "execution_count": 1,
   "metadata": {},
   "outputs": [],
   "source": [
    "import pandas as pd\n",
    "import numpy as np\n",
    "\n",
    "NGIDS_path = './dataset/NGIDS_host_log_1-99.csv'"
   ]
  },
  {
   "cell_type": "code",
   "execution_count": 8,
   "metadata": {},
   "outputs": [],
   "source": [
    "NGIDS = pd.read_csv(NGIDS_path)\n",
    "        \n",
    "dropna_NGIDS = NGIDS.dropna(subset=['path', 'sys_call', 'label'])\n",
    "\n",
    "sentence = dropna_NGIDS['sys_call'].to_list()\n"
   ]
  },
  {
   "cell_type": "code",
   "execution_count": 7,
   "metadata": {},
   "outputs": [],
   "source": [
    "from gensim.models import Word2Vec\n",
    "\n",
    "def make_w2v_vector(sentence, vector_size, window, data_name = 'NGIDS_vector'):\n",
    "    model = Word2Vec(sentences=[sentence], vector_size = vector_size, window = window, min_count = 1, workers = 4 , sg = 1)\n",
    "\n",
    "    model.save(\"./dataset/SystemCall/\" + f\"vectorsize{vector_size}_window{window}_\" + data_name)\n"
   ]
  },
  {
   "cell_type": "code",
   "execution_count": 10,
   "metadata": {},
   "outputs": [],
   "source": [
    "vector_size = [10, 15, 20, 50, 100]\n",
    "window_size = [1, 3, 5, 10]\n",
    "\n",
    "for v_size in vector_size :\n",
    "    for w_size in window_size :\n",
    "        make_w2v_vector(sentence, v_size, w_size)"
   ]
  }
 ],
 "metadata": {
  "kernelspec": {
   "display_name": "Python 3.9.7 ('torch_semi_supervised')",
   "language": "python",
   "name": "python3"
  },
  "language_info": {
   "codemirror_mode": {
    "name": "ipython",
    "version": 3
   },
   "file_extension": ".py",
   "mimetype": "text/x-python",
   "name": "python",
   "nbconvert_exporter": "python",
   "pygments_lexer": "ipython3",
   "version": "3.9.7"
  },
  "orig_nbformat": 4,
  "vscode": {
   "interpreter": {
    "hash": "2398447304b6c99822df0b3d08ddaef8a39ed866a61fdd621cb318ad5f76ce08"
   }
  }
 },
 "nbformat": 4,
 "nbformat_minor": 2
}
